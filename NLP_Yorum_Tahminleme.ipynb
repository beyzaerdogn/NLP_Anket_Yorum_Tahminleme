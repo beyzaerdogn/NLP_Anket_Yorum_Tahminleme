{
 "cells": [
  {
   "cell_type": "code",
   "execution_count": null,
   "id": "7e4974a8",
   "metadata": {},
   "outputs": [
    {
     "name": "stdout",
     "output_type": "stream",
     "text": [
      "Kullanılan cihaz: mps\n"
     ]
    },
    {
     "name": "stderr",
     "output_type": "stream",
     "text": [
      "2025-09-26 12:50:27.201880: I tensorflow/core/platform/cpu_feature_guard.cc:210] This TensorFlow binary is optimized to use available CPU instructions in performance-critical operations.\n",
      "To enable the following instructions: AVX2 FMA, in other operations, rebuild TensorFlow with the appropriate compiler flags.\n",
      "Some weights of BertForSequenceClassification were not initialized from the model checkpoint at dbmdz/bert-base-turkish-cased and are newly initialized: ['classifier.bias', 'classifier.weight']\n",
      "You should probably TRAIN this model on a down-stream task to be able to use it for predictions and inference.\n"
     ]
    },
    {
     "name": "stdout",
     "output_type": "stream",
     "text": [
      "\n",
      "🔹 Epoch 1/2\n"
     ]
    },
    {
     "name": "stderr",
     "output_type": "stream",
     "text": [
      "Epoch 1: 100%|██████████| 666/666 [24:18<00:00,  2.19s/it, loss=0.0293] \n"
     ]
    },
    {
     "name": "stdout",
     "output_type": "stream",
     "text": [
      "\n",
      "🔹 Epoch 2/2\n"
     ]
    },
    {
     "name": "stderr",
     "output_type": "stream",
     "text": [
      "Epoch 2: 100%|██████████| 666/666 [23:57<00:00,  2.16s/it, loss=0.00494]\n"
     ]
    }
   ],
   "source": [
    "import torch\n",
    "from torch.utils.data import DataLoader, Dataset\n",
    "from transformers import AutoTokenizer, AutoModelForSequenceClassification\n",
    "from torch.optim import AdamW\n",
    "from sklearn.model_selection import train_test_split\n",
    "from sklearn.metrics import classification_report\n",
    "import pandas as pd\n",
    "from tqdm import tqdm\n",
    "\n",
    "# 📌 GPU kontrolü\n",
    "device = torch.device(\"mps\" if torch.backends.mps.is_available() else \"cuda\" if torch.cuda.is_available() else \"cpu\")\n",
    "print(\"Kullanılan cihaz:\", device)\n",
    "\n",
    "# 📌 Veri yükle (Etiketlenen data )\n",
    "df = pd.read_csv(\"yorumlar_etiketli.csv\")\n",
    "\n",
    "# Label mapping\n",
    "labels = sorted(df[\"label\"].unique().tolist())  # sıralı olsun diye\n",
    "label2id = {label: i for i, label in enumerate(labels)}\n",
    "id2label = {i: label for label, i in label2id.items()}\n",
    "df[\"label_id\"] = df[\"label\"].map(label2id)\n",
    "\n",
    "# Train/test split\n",
    "train_texts, test_texts, train_labels, test_labels = train_test_split(\n",
    "    df[\"raw_answer\"].astype(str).tolist(),\n",
    "    df[\"label_id\"].tolist(),\n",
    "    test_size=0.2,\n",
    "    random_state=42\n",
    ")\n",
    "\n",
    "# 📌 Tokenizer\n",
    "model_name = \"dbmdz/bert-base-turkish-cased\"\n",
    "tokenizer = AutoTokenizer.from_pretrained(model_name, use_fast=True)\n",
    "\n",
    "# Dataset class\n",
    "class CustomDataset(Dataset):\n",
    "    def __init__(self, texts, labels, tokenizer, max_len=128):\n",
    "        self.texts = texts\n",
    "        self.labels = labels\n",
    "        self.tokenizer = tokenizer\n",
    "        self.max_len = max_len\n",
    "\n",
    "    def __len__(self):\n",
    "        return len(self.texts)\n",
    "\n",
    "    def __getitem__(self, idx):\n",
    "        encoding = self.tokenizer(\n",
    "            self.texts[idx],\n",
    "            truncation=True,\n",
    "            padding=\"max_length\",\n",
    "            max_length=self.max_len,\n",
    "            return_tensors=\"pt\"\n",
    "        )\n",
    "        item = {key: val.squeeze(0) for key, val in encoding.items()}\n",
    "        item[\"labels\"] = torch.tensor(self.labels[idx], dtype=torch.long)\n",
    "        return item\n",
    "\n",
    "# Dataset & Dataloader\n",
    "train_dataset = CustomDataset(train_texts, train_labels, tokenizer)\n",
    "test_dataset = CustomDataset(test_texts, test_labels, tokenizer)\n",
    "\n",
    "train_loader = DataLoader(train_dataset, batch_size=8, shuffle=True)\n",
    "test_loader = DataLoader(test_dataset, batch_size=8)\n",
    "\n",
    "# 📌 Model\n",
    "model = AutoModelForSequenceClassification.from_pretrained(\n",
    "    model_name,\n",
    "    num_labels=len(labels),\n",
    "    id2label=id2label,\n",
    "    label2id=label2id\n",
    ")\n",
    "model.to(device)\n",
    "\n",
    "# Optimizer\n",
    "optimizer = AdamW(model.parameters(), lr=2e-5)\n",
    "\n",
    "# 📌 Eğitim döngüsü\n",
    "epochs = 2\n",
    "model.train()\n",
    "for epoch in range(epochs):\n",
    "    print(f\"\\n🔹 Epoch {epoch+1}/{epochs}\")\n",
    "    loop = tqdm(train_loader, leave=True)\n",
    "    for batch in loop:\n",
    "        input_ids = batch[\"input_ids\"].to(device)\n",
    "        attention_mask = batch[\"attention_mask\"].to(device)\n",
    "        labels = batch[\"labels\"].to(device)\n",
    "\n",
    "        optimizer.zero_grad()\n",
    "        outputs = model(input_ids=input_ids, attention_mask=attention_mask, labels=labels)\n",
    "        loss = outputs.loss\n",
    "        loss.backward()\n",
    "        optimizer.step()\n",
    "\n",
    "        loop.set_description(f\"Epoch {epoch+1}\")\n",
    "        loop.set_postfix(loss=loss.item())\n",
    "\n"
   ]
  },
  {
   "cell_type": "code",
   "execution_count": 3,
   "id": "9d0a6587",
   "metadata": {},
   "outputs": [
    {
     "name": "stdout",
     "output_type": "stream",
     "text": [
      "\n",
      "📊 Classification Report:\n",
      "              precision    recall  f1-score   support\n",
      "\n",
      "       Diğer       0.98      0.98      0.98       323\n",
      "   Güler Yüz       0.99      1.00      0.99       252\n",
      "         Hız       1.00      0.95      0.97        19\n",
      "  Memnuniyet       0.95      0.99      0.97        91\n",
      "     Negatif       0.94      0.89      0.91        36\n",
      "        İlgi       0.99      0.99      0.99       611\n",
      "\n",
      "    accuracy                           0.98      1332\n",
      "   macro avg       0.97      0.96      0.97      1332\n",
      "weighted avg       0.98      0.98      0.98      1332\n",
      "\n"
     ]
    }
   ],
   "source": [
    "# 📌 Değerlendirme\n",
    "model.eval()\n",
    "preds, trues = [], []\n",
    "with torch.no_grad():\n",
    "    for batch in test_loader:\n",
    "        input_ids = batch[\"input_ids\"].to(device)\n",
    "        attention_mask = batch[\"attention_mask\"].to(device)\n",
    "        labels = batch[\"labels\"].to(device)\n",
    "\n",
    "        outputs = model(input_ids=input_ids, attention_mask=attention_mask)\n",
    "        logits = outputs.logits\n",
    "        predictions = torch.argmax(logits, dim=-1)\n",
    "\n",
    "        preds.extend(predictions.cpu().numpy())\n",
    "        trues.extend(labels.cpu().numpy())\n",
    "\n",
    "print(\"\\n📊 Classification Report:\")\n",
    "print(classification_report(\n",
    "    trues,\n",
    "    preds,\n",
    "    labels=list(id2label.keys()),\n",
    "    target_names=[id2label[i] for i in id2label.keys()]\n",
    "))\n",
    "\n"
   ]
  },
  {
   "cell_type": "code",
   "execution_count": 4,
   "id": "feec6fcc",
   "metadata": {},
   "outputs": [
    {
     "name": "stdout",
     "output_type": "stream",
     "text": [
      "✅ Model kaydedildi: kategorimodeli\n"
     ]
    }
   ],
   "source": [
    "# 📌 Modeli kaydet\n",
    "save_path = \"kategorimodeli\"\n",
    "model.save_pretrained(save_path)\n",
    "tokenizer.save_pretrained(save_path)\n",
    "\n",
    "print(f\"✅ Model kaydedildi: {save_path}\")\n"
   ]
  },
  {
   "cell_type": "code",
   "execution_count": 4,
   "id": "401fa4ca",
   "metadata": {},
   "outputs": [
    {
     "name": "stdout",
     "output_type": "stream",
     "text": [
      "📌 Modeldeki kategori etiketleri:\n",
      "{0: 'Diğer', 1: 'Güler Yüz', 2: 'Hız', 3: 'Memnuniyet', 4: 'Negatif', 5: 'İlgi'}\n"
     ]
    }
   ],
   "source": [
    "from transformers import AutoTokenizer, AutoModelForSequenceClassification\n",
    "\n",
    "model_path = \"kategorimodeli\"\n",
    "model = AutoModelForSequenceClassification.from_pretrained(model_path)\n",
    "\n",
    "print(\"📌 Modeldeki kategori etiketleri:\")\n",
    "print(model.config.id2label)\n"
   ]
  },
  {
   "cell_type": "markdown",
   "id": "6664d10f",
   "metadata": {},
   "source": [
    "TEST"
   ]
  },
  {
   "cell_type": "code",
   "execution_count": 7,
   "id": "8bb63d0f",
   "metadata": {},
   "outputs": [
    {
     "name": "stderr",
     "output_type": "stream",
     "text": [
      "Device set to use mps:0\n"
     ]
    },
    {
     "name": "stdout",
     "output_type": "stream",
     "text": [
      "[{'label': 'İlgi', 'score': 0.9986386895179749}]\n"
     ]
    }
   ],
   "source": [
    "from transformers import AutoTokenizer, AutoModelForSequenceClassification, pipeline\n",
    "\n",
    "# Kaydedilen modeli yükle\n",
    "model_path = \"kategorimodeli\"   # sunucuda senin kaydettiğin klasör\n",
    "tokenizer = AutoTokenizer.from_pretrained(model_path)\n",
    "model = AutoModelForSequenceClassification.from_pretrained(model_path)\n",
    "\n",
    "classifier = pipeline(\"text-classification\", model=model, tokenizer=tokenizer)\n",
    "\n",
    "# Örnek tahmin\n",
    "yorum = \"Çalışanlar çok ilgisizdi, 15 dakika bekledim.\"\n",
    "print(classifier(yorum))\n"
   ]
  },
  {
   "cell_type": "markdown",
   "id": "b73f210d",
   "metadata": {},
   "source": [
    "✅ Güncellenmiş Python kodu (hem update hem log kaydı) Veritabanına düzenli aktarım için gereklidir."
   ]
  },
  {
   "cell_type": "code",
   "execution_count": null,
   "id": "486eb8e0",
   "metadata": {},
   "outputs": [],
   "source": [
    "import torch\n",
    "import pandas as pd\n",
    "import mysql.connector\n",
    "from transformers import AutoTokenizer, AutoModelForSequenceClassification\n",
    "from tqdm import tqdm\n",
    "\n",
    "# 📌 GPU kontrolü\n",
    "device = torch.device(\"mps\" if torch.backends.mps.is_available() else\n",
    "                      \"cuda\" if torch.cuda.is_available() else \"cpu\")\n",
    "print(\"Kullanılan cihaz:\", device)\n",
    "\n",
    "# 📌 Eğitilmiş modeli yükle\n",
    "model_path = \"kategorimodeli\"\n",
    "tokenizer = AutoTokenizer.from_pretrained(model_path)\n",
    "model = AutoModelForSequenceClassification.from_pretrained(model_path)\n",
    "model.to(device)\n",
    "model.eval()\n",
    "\n",
    "# 📌 Veritabanı bağlantısı\n",
    "conn = mysql.connector.connect(\n",
    "    user=\"****\",\n",
    "    password=\"****\",\n",
    "    host=\"****\",\n",
    "    database=\"****\"\n",
    ")\n",
    "cursor = conn.cursor(dictionary=True)\n",
    "\n",
    "# 📌 Kategorisi boş olanları çek\n",
    "cursor.execute(\"SELECT transaction_id, cevap FROM yorumlar WHERE  IS NULL\")\n",
    "rows = cursor.fetchall()\n",
    "df = pd.DataFrame(rows)\n",
    "\n",
    "def predict_batch(texts, batch_size=128):\n",
    "    preds = []\n",
    "    for i in tqdm(range(0, len(texts), batch_size), desc=\"🔮 Tahmin ediliyor\"):\n",
    "        batch_texts = texts[i:i+batch_size]\n",
    "        inputs = tokenizer(batch_texts, return_tensors=\"pt\",\n",
    "                           truncation=True, padding=True, max_length=128).to(device)\n",
    "        with torch.no_grad():\n",
    "            outputs = model(**inputs)\n",
    "            batch_preds = torch.argmax(outputs.logits, dim=-1).cpu().numpy()\n",
    "            preds.extend([model.config.id2label[int(p)] if int(p) in model.config.id2label else str(p)\n",
    "                          for p in batch_preds])\n",
    "    return preds\n",
    "\n",
    "# 📊 Tahmin et\n",
    "if not df.empty:\n",
    "    df[\"cevap_kategorisi\"] = predict_batch(df[\"cevap\"].astype(str).tolist())\n",
    "\n",
    "    # 📤 UPDATE işlemi\n",
    "    update_data = list(zip(df[\"cevap_kategorisi\"], df[\"transaction_id\"]))\n",
    "    cursor.executemany(\n",
    "        \"UPDATE nlp_answer SET cevap_kategorisi = %s WHERE transaction_id = %s\",\n",
    "        update_data\n",
    "    )\n",
    "    conn.commit()\n",
    "\n",
    "    # 📌 Log tablosuna kayıt\n",
    "    cursor.execute(\n",
    "        \"INSERT INTO nlp_logs (processed_count, success_count, fail_count) VALUES (%s, %s, %s)\",\n",
    "        (len(df), len(df), 0)   # burada tümü başarılı kabul ettik\n",
    "    )\n",
    "    conn.commit()\n",
    "\n",
    "    print(f\"🚀 {len(df)} yorum kategorize edildi ve log kaydı eklendi.\")\n",
    "else:\n",
    "    print(\"ℹ️ Etiketlenecek yeni yorum yok.\")\n",
    "\n",
    "cursor.close()\n",
    "conn.close()\n"
   ]
  },
  {
   "cell_type": "code",
   "execution_count": null,
   "id": "5565a343",
   "metadata": {},
   "outputs": [],
   "source": []
  },
  {
   "cell_type": "code",
   "execution_count": null,
   "id": "c3811d7d",
   "metadata": {},
   "outputs": [],
   "source": []
  }
 ],
 "metadata": {
  "kernelspec": {
   "display_name": "Python 3.9.6 (py39)",
   "language": "python",
   "name": "py39"
  },
  "language_info": {
   "codemirror_mode": {
    "name": "ipython",
    "version": 3
   },
   "file_extension": ".py",
   "mimetype": "text/x-python",
   "name": "python",
   "nbconvert_exporter": "python",
   "pygments_lexer": "ipython3",
   "version": "3.9.6"
  }
 },
 "nbformat": 4,
 "nbformat_minor": 5
}
